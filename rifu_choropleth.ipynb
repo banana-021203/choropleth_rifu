{
  "nbformat": 4,
  "nbformat_minor": 0,
  "metadata": {
    "colab": {
      "private_outputs": true,
      "provenance": [],
      "include_colab_link": true
    },
    "kernelspec": {
      "name": "python3",
      "display_name": "Python 3"
    },
    "language_info": {
      "name": "python"
    }
  },
  "cells": [
    {
      "cell_type": "markdown",
      "metadata": {
        "id": "view-in-github",
        "colab_type": "text"
      },
      "source": [
        "<a href=\"https://colab.research.google.com/github/banana-021203/choropleth_rifu/blob/main/Untitled5.ipynb\" target=\"_parent\"><img src=\"https://colab.research.google.com/assets/colab-badge.svg\" alt=\"Open In Colab\"/></a>"
      ]
    },
    {
      "cell_type": "code",
      "source": [
        "# 日本語表示用\n",
        "!pip install japanize-matplotlib"
      ],
      "metadata": {
        "id": "4N3aAFTBK3Ld"
      },
      "execution_count": null,
      "outputs": []
    },
    {
      "cell_type": "code",
      "source": [
        "from google.colab import drive\n",
        "drive.mount('/content/drive')"
      ],
      "metadata": {
        "id": "-ROD3-isXpzb"
      },
      "execution_count": null,
      "outputs": []
    },
    {
      "cell_type": "code",
      "source": [
        "!pip install geopandas "
      ],
      "metadata": {
        "id": "lE3tusBrJyq2"
      },
      "execution_count": null,
      "outputs": []
    },
    {
      "cell_type": "code",
      "source": [
        "!pip freeze"
      ],
      "metadata": {
        "id": "YhsGq2lNeXzh"
      },
      "execution_count": null,
      "outputs": []
    },
    {
      "cell_type": "code",
      "execution_count": null,
      "metadata": {
        "id": "3PWu3hOUGcCS"
      },
      "outputs": [],
      "source": [
        "import pandas as pd\n",
        "import os\n",
        "import numpy as np\n",
        "import japanize_matplotlib\n",
        "%matplotlib inline\n",
        "import folium\n",
        "import requests\n",
        "import folium.plugins\n",
        "from folium.plugins import HeatMap\n",
        "import geopandas as gpd\n",
        "from shapely.geometry import Point\n",
        "import pyproj\n",
        "import branca\n",
        "from shapely.geometry import Polygon, MultiPolygon\n",
        "from folium import Map, LayerControl, Choropleth\n",
        "import json"
      ]
    },
    {
      "cell_type": "code",
      "source": [
        "!pip install mapclassify\n",
        "import mapclassify"
      ],
      "metadata": {
        "id": "vUm6ReeuKy6J"
      },
      "execution_count": null,
      "outputs": []
    },
    {
      "cell_type": "code",
      "source": [
        "pip install pyshp"
      ],
      "metadata": {
        "id": "1H72WBxqpSSy"
      },
      "execution_count": null,
      "outputs": []
    },
    {
      "cell_type": "code",
      "source": [
        "map = folium.Map(location=[38.34399624\t,140.9599461], zoom_start=13)\n",
        "map"
      ],
      "metadata": {
        "id": "rFqL-MHxh926"
      },
      "execution_count": null,
      "outputs": []
    },
    {
      "cell_type": "code",
      "source": [
        "map"
      ],
      "metadata": {
        "id": "728oOgjRrPcf"
      },
      "execution_count": null,
      "outputs": []
    },
    {
      "cell_type": "code",
      "source": [
        "import shapefile\n",
        "rifu_shp = shapefile.Reader('/content/drive/MyDrive/A002005212015DDSWC04406/h27ka04406.shp', encoding='cp932')\n",
        "rifu_num_shp = rifu_shp.shapes()"
      ],
      "metadata": {
        "id": "7gZkm2IoUlw0"
      },
      "execution_count": null,
      "outputs": []
    },
    {
      "cell_type": "code",
      "source": [
        "import geopandas as gpd\n",
        "shp_gdf = gpd.read_file('/content/drive/MyDrive/A002005212015DDSWC04406/h27ka04406.shp')\n",
        "shp_gdf.head()"
      ],
      "metadata": {
        "id": "PEZ4h8wBWEYC"
      },
      "execution_count": null,
      "outputs": []
    },
    {
      "cell_type": "code",
      "source": [
        "shp_gdf.to_file('/content/drive/MyDrive/A002005212015DDSWC04406/geo.geojson', driver='GeoJSON')"
      ],
      "metadata": {
        "id": "LzFEDq2haHok"
      },
      "execution_count": null,
      "outputs": []
    },
    {
      "cell_type": "code",
      "source": [
        "import matplotlib.pyplot as plt\n",
        "fig, ax = plt.subplots(1, figsize=(10, 8))\n",
        "shp_gdf.plot(ax=ax, column=\"JINKO\", legend=True)"
      ],
      "metadata": {
        "id": "Ui-Ft6W0M6Bo"
      },
      "execution_count": null,
      "outputs": []
    },
    {
      "cell_type": "code",
      "source": [
        "folium.GeoJson(shp_gdf[shp_gdf['JINKO'] >= 500], \n",
        "               # 表示の線や色の設定\n",
        "               style_function=lambda x: {'fillColor': 'red', 'color': 'red'},\n",
        "               # マウスホバー時のツールチップの設定ができます\n",
        "               tooltip=folium.features.GeoJsonTooltip(fields=['AREA', 'JINKO'],labels=True, sticky=True)\n",
        "               ).add_to(map)\n",
        "map"
      ],
      "metadata": {
        "id": "O8t9MZfQs8-O"
      },
      "execution_count": null,
      "outputs": []
    },
    {
      "cell_type": "code",
      "source": [
        "map1 = folium.Map(location=[38.34399624\t,140.9599461], zoom_start=13)\n",
        "map1"
      ],
      "metadata": {
        "id": "3Rsu0VbHxX4M"
      },
      "execution_count": null,
      "outputs": []
    },
    {
      "cell_type": "code",
      "source": [
        "folium.Choropleth(geo_data='/content/drive/MyDrive/A002005212015DDSWC04406/geo.geojson',\n",
        "                   name = 'choropleth', # map名\n",
        "                   data = shp_gdf,\n",
        "                   columns=[\"MOJI\",  \"JINKO\"],\n",
        "                   key_on =  \"feature.properties.MOJI\",\n",
        "                   fill_opacity = 0.7,\n",
        "                   line_opacity=0.5,\n",
        "                   threshold_scale = [0, 200, 400, 600, 800, 1000, 1200, 1400 ,2000],# 境界値を指定\n",
        "                   legend_name = '人口数',\n",
        "                   highlight=True,\n",
        "                   ).add_to(map1)\n",
        "map1"
      ],
      "metadata": {
        "id": "H7EUJoM_tPRA"
      },
      "execution_count": null,
      "outputs": []
    },
    {
      "cell_type": "code",
      "source": [
        "folium.LayerControl().add_to(map1)\n",
        "\n",
        "map1.save('/content/drive/MyDrive/A002005212015DDSWC04406/利府町の人口コロプレス図.html')"
      ],
      "metadata": {
        "id": "SXEvnhPU5UTh"
      },
      "execution_count": null,
      "outputs": []
    }
  ]
}
